{
 "cells": [
  {
   "cell_type": "markdown",
   "id": "b97be3ab-d6dd-495f-a342-e5e837cfb8bc",
   "metadata": {},
   "source": [
    "#                       Esercitazione 4 - 12 Marzo 2023"
   ]
  },
  {
   "cell_type": "markdown",
   "id": "8c87694a-727f-410f-a307-3f35f0dcc933",
   "metadata": {},
   "source": [
    "Esplorate le caratteristiche dell'insieme dei numeri di macchina F($\\beta$,t,L,U) sul vostro calcolatore utilizzando il comando sys.float_info, dopo aver importato im modulo sys:\n",
    "\n",
    "import sys\n",
    "\n",
    "print(sys.float_info)"
   ]
  },
  {
   "cell_type": "code",
   "execution_count": 7,
   "id": "41befe1d-4b51-40b3-a8bc-db8b2d2b886e",
   "metadata": {
    "tags": []
   },
   "outputs": [
    {
     "name": "stdout",
     "output_type": "stream",
     "text": [
      "sys.float_info(max=1.7976931348623157e+308, max_exp=1024, max_10_exp=308, min=2.2250738585072014e-308, min_exp=-1021, min_10_exp=-307, dig=15, mant_dig=53, epsilon=2.220446049250313e-16, radix=2, rounds=1)\n",
      "-1022\n",
      "1023\n"
     ]
    }
   ],
   "source": [
    "import sys\n",
    "print(sys.float_info)\n",
    "\n",
    "L = sys.float_info.min_exp-1\n",
    "U = sys.float_info.max_exp-1\n",
    "\n",
    "print(L)\n",
    "print(U)"
   ]
  },
  {
   "cell_type": "markdown",
   "id": "82c24c2e-15d3-4e96-8436-8a2c4b01011b",
   "metadata": {},
   "source": [
    "min_exp=-1021   (L=-1021-1=-1022)\n",
    "\n",
    "max_exp=1024    (U=1024-1=1023)\n",
    "\n",
    "mant_dig=53 (incluso l'hidden bit)\n",
    "\n",
    "dig=15, significa che i numeri \"float\" vengono convertiti in stringhe con un massimo di 15 cifre decimali. Le cifre decimali oltre la quindicesima vengono eliminate (troncate). (solo a livello di stringa visualizzata)"
   ]
  },
  {
   "cell_type": "markdown",
   "id": "224ac7e6-31df-4f15-8ffc-9c82bd21c82e",
   "metadata": {},
   "source": [
    "- **1.**  Calcolare lo spacing in  $[2^{52}, 2^{53}]$.\n",
    "    - Sia $x=2^{52}$ individuare il numero successivo a $2^{52}$ ed assegnarlo ad una variabile  y.\n",
    "    - Cosa succede se consideriamo il valore z=x+0.5?\n",
    "    - Cosa succede se consideriamo il valore q=y+0.5?\n",
    "  "
   ]
  },
  {
   "cell_type": "code",
   "execution_count": 8,
   "id": "6bb4629e-4aff-4350-ae22-792801b26805",
   "metadata": {
    "tags": []
   },
   "outputs": [
    {
     "name": "stdout",
     "output_type": "stream",
     "text": [
      "spacing: 1\n"
     ]
    }
   ],
   "source": [
    "B=2\n",
    "exp=52\n",
    "t=sys.float_info.mant_dig\n",
    "\n",
    "x=pow(B, exp)\n",
    "y=pow(B, exp + 1 - t)\n",
    "print(\"spacing:\", y)"
   ]
  },
  {
   "cell_type": "code",
   "execution_count": 9,
   "id": "afaca9fc-dbd5-4c47-84b3-dd338e6f077e",
   "metadata": {
    "tags": []
   },
   "outputs": [
    {
     "name": "stdout",
     "output_type": "stream",
     "text": [
      "4503599627370497\n"
     ]
    }
   ],
   "source": [
    "y = x + 1\n",
    "print(y)"
   ]
  },
  {
   "cell_type": "code",
   "execution_count": 10,
   "id": "2ae04e90-459b-4a9e-80ef-143afbe37ace",
   "metadata": {
    "tags": []
   },
   "outputs": [
    {
     "name": "stdout",
     "output_type": "stream",
     "text": [
      "4503599627370496\n"
     ]
    }
   ],
   "source": [
    "z = x + 0.5\n",
    "print(x)"
   ]
  },
  {
   "cell_type": "code",
   "execution_count": 11,
   "id": "edd24627-7447-493b-bb39-f9d461053514",
   "metadata": {
    "tags": []
   },
   "outputs": [
    {
     "name": "stdout",
     "output_type": "stream",
     "text": [
      "4503599627370498.0\n"
     ]
    }
   ],
   "source": [
    "q = y + 0.5\n",
    "print(q)"
   ]
  },
  {
   "cell_type": "markdown",
   "id": "c73d1758-eb82-48af-8618-6dfb522dcdd6",
   "metadata": {},
   "source": [
    "- **2** Calcolare la cardinalità dell'insieme dei numeri finiti di Python"
   ]
  },
  {
   "cell_type": "code",
   "execution_count": 12,
   "id": "663c86bc-4076-45fc-ba39-34c9e06afa13",
   "metadata": {
    "tags": []
   },
   "outputs": [
    {
     "name": "stdout",
     "output_type": "stream",
     "text": [
      "18428729675200069633\n"
     ]
    }
   ],
   "source": [
    "F = 2 * (B - 1) * pow(B, t-1) * (U - L + 1) + 1\n",
    "print(F)"
   ]
  },
  {
   "cell_type": "markdown",
   "id": "cee853bd-aca6-47f4-980f-7e44473f7523",
   "metadata": {},
   "source": [
    "- **3**  Verificare numericamente che $\\texttt{eps} = 2^{-52}$, spacing nell'intervallo $[1, 2]$,\n",
    "è il piu' piccolo $x$ tale che $fl(1 + x)$ è  diverso da $1$. \n"
   ]
  },
  {
   "cell_type": "markdown",
   "id": "35d7206c-f742-4616-b92c-91b37127a4d3",
   "metadata": {},
   "source": [
    "- **4** Costruire un numpy array costituito da n=10 valori tutti uguali a 0.1\n",
    "-     Effettuate la somma utilizzando un ciclo for.\n",
    "-     Effettuate la somma effettuando la somma con la funzione sum del modulo numpy.\n",
    "  Cosa osservate? Cercate di giustificare i risultati "
   ]
  },
  {
   "cell_type": "code",
   "execution_count": 14,
   "id": "752194d8-c18f-4a9d-9c66-b60637dfc9ec",
   "metadata": {
    "tags": []
   },
   "outputs": [
    {
     "name": "stdout",
     "output_type": "stream",
     "text": [
      "0.9999999999999999\n"
     ]
    },
    {
     "data": {
      "text/plain": [
       "1.0"
      ]
     },
     "execution_count": 14,
     "metadata": {},
     "output_type": "execute_result"
    }
   ],
   "source": [
    "import numpy as np\n",
    "\n",
    "b = 0\n",
    "arr = np.repeat([0.1], 10)\n",
    "for a in arr:\n",
    "    b += a\n",
    "print(b)\n",
    "np.sum(arr)"
   ]
  },
  {
   "cell_type": "markdown",
   "id": "d19cd104-d1ea-4444-996c-0a9672063450",
   "metadata": {},
   "source": [
    "- **5.** Siano $a=1.234567890123400 e+15$, $b=-1.234567890123401 e+15$, $c=0.06$. \n",
    "  Calcolare $(a+b)+c$, $(a+c)+b$, $a+(b+c)$. Che cosa si osserva? Ripetere l'esercizio con $a=0.23371258 e-4$, $b=0.33678429 e+2$, $c=-0.33677911 e+2$."
   ]
  },
  {
   "cell_type": "code",
   "execution_count": 21,
   "id": "08516c72-52cb-4891-9e88-354de0250111",
   "metadata": {
    "tags": []
   },
   "outputs": [
    {
     "name": "stdout",
     "output_type": "stream",
     "text": [
      "(a+b)+c: -0.94\n",
      "(a+c)+b: -1.0\n",
      "a+(b+c): -1.0\n"
     ]
    }
   ],
   "source": [
    "a = 1.234567890123400e+15\n",
    "b = -1.234567890123401e+15\n",
    "c = 0.06\n",
    "\n",
    "print(\"(a+b)+c:\",(a+b)+c)\n",
    "print(\"(a+c)+b:\",(a+c)+b)\n",
    "print(\"a+(b+c):\",a+(b+c))"
   ]
  },
  {
   "cell_type": "code",
   "execution_count": 22,
   "id": "55edeb79-6f7d-47d2-94f0-3cb2a7b00e00",
   "metadata": {
    "tags": []
   },
   "outputs": [
    {
     "name": "stdout",
     "output_type": "stream",
     "text": [
      "(a+b)+c: 0.0005413712580022434\n",
      "(a+c)+b: 0.0005413712580022434\n",
      "a+(b+c): 0.0005413712579995743\n"
     ]
    }
   ],
   "source": [
    "a = 0.23371258e-4\n",
    "b = 0.33678429e+2\n",
    "c = -0.33677911e+2\n",
    "\n",
    "print(\"(a+b)+c:\",(a+b)+c)\n",
    "print(\"(a+c)+b:\",(a+c)+b)\n",
    "print(\"a+(b+c):\",a+(b+c))"
   ]
  },
  {
   "cell_type": "markdown",
   "id": "960d25c1-9677-4b1e-92c1-c16870d520b6",
   "metadata": {},
   "source": [
    "- **6.** Si considerino le espressioni $y_1=\\sqrt{x^2+1}-x$ e $y_2=\\frac{1}{\\sqrt{x^2+1}+x}$. Calcolare il valore di $y_1$ e $y_2$ per $x=7777$ e $x=77777777$. Che cosa si osserva? Commentare i risultati ottenuti."
   ]
  },
  {
   "cell_type": "markdown",
   "id": "e3d8c3b3-d514-41ec-a6f2-eb22311ab157",
   "metadata": {},
   "source": [
    "- **7.** Valutare in aritmetica floating point l'espressione\n",
    "$$A(x)=\\frac{1}{x}-\\frac{1}{(x+1)}$$  nel vettore   $x=[10^0, 10^1,... ,10^{20}]$ contenente potenze successive  di $10$,  Si calcoli per ogni elemento di x l'errore relativo considerando come valore esatto quello calcolato usando  l'espressione algebricamente equivalente\n",
    "$$\n",
    "B(x)=\\frac{1}{x (x+1)}.\n",
    "$$ Si visualizzi l'errore relativo in un grafico in scala logaritmica su $x$ e $y$"
   ]
  },
  {
   "cell_type": "code",
   "execution_count": 29,
   "id": "611476f0-b3be-4b8d-ac08-befbad05fd5e",
   "metadata": {
    "tags": []
   },
   "outputs": [],
   "source": [
    "A = lambda z: (1/z)-(1/(z+1))\n",
    "B = lambda z: (1/(z*(z+1)))\n",
    "\n",
    "arr = 10.0**np.arange(0,20)\n",
    "x = A(arr)\n",
    "y = B(arr)\n",
    "sp=np.spacing(arr)\n"
   ]
  },
  {
   "cell_type": "markdown",
   "id": "27155dcd-6580-4e3d-aac9-fa42b717bf70",
   "metadata": {},
   "source": [
    "- **8-**  Risolvere l'equazione $x^2+10^k x+1=0$ con k in range(1,9). \n",
    "\n",
    "- Scrivere un codice Python che calcola le due radici: x1=(-b+sqrt(Delta))/2  e x2=(-b-sqrt(Delta))/2, dove Delta=b^2-4ac,  per tutti i valori di k in range(1,9)\n",
    "\n",
    "- Calcolare l'errore relativo della soluzione numerica x1 rispetto alla soluzione in aritmetica reale, che per valori di k alti è  uguale a $10^{-k}$, altrimenti è una sua approssimazione. \n",
    "\n",
    "- Visualizzare l'errore relativo per ogni valore di k.\n",
    "\n",
    "- Proporre un algoritmo aleternativo per il calcolo di una delle due soluzioni, che fornisca errore relativo inferiore."
   ]
  },
  {
   "cell_type": "markdown",
   "id": "9f6294cc-b0df-40b8-a1f5-450f4e756ffa",
   "metadata": {},
   "source": [
    "- **9.** Scrivere uno script Matlab che fornisca le approssimazioni di $e=\\exp(1)$ ottenute con la formula\n",
    "$f(n)=(1/n+1)^n$ per $n=10^k$ e  $k=0, ..., 16$. \n",
    "\n",
    "Visualizzare  un grafico con i valori di $f(n)$ al variare di n ed un grafico con i valori dell'errore relativo (considerando come valore esatto il valore math.exp(1)).  Cosa si osserva? Commentare i risultati ottenuti."
   ]
  },
  {
   "cell_type": "code",
   "execution_count": null,
   "id": "de9f90ae-afca-4294-9acd-05585d601eb7",
   "metadata": {},
   "outputs": [],
   "source": []
  },
  {
   "cell_type": "code",
   "execution_count": null,
   "id": "29588be5-afa3-4df1-8efc-efc3c24c7938",
   "metadata": {},
   "outputs": [],
   "source": []
  }
 ],
 "metadata": {
  "kernelspec": {
   "display_name": "Python 3 (ipykernel)",
   "language": "python",
   "name": "python3"
  },
  "language_info": {
   "codemirror_mode": {
    "name": "ipython",
    "version": 3
   },
   "file_extension": ".py",
   "mimetype": "text/x-python",
   "name": "python",
   "nbconvert_exporter": "python",
   "pygments_lexer": "ipython3",
   "version": "3.11.3"
  }
 },
 "nbformat": 4,
 "nbformat_minor": 5
}
