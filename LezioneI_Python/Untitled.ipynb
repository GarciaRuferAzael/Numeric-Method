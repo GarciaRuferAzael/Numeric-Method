{
 "cells": [
  {
   "cell_type": "code",
   "execution_count": null,
   "id": "949c994f-e01e-4df8-84d6-78df382a5f98",
   "metadata": {},
   "outputs": [],
   "source": [
    "%run prova"
   ]
  },
  {
   "cell_type": "markdown",
   "id": "aa18e959-a751-4e72-badf-890bf2883f7e",
   "metadata": {},
   "source": [
    "Metodi Numerici"
   ]
  },
  {
   "cell_type": "code",
   "execution_count": null,
   "id": "b8b44ace-eedd-4299-bf5f-27f0c77c1fc5",
   "metadata": {},
   "outputs": [],
   "source": []
  }
 ],
 "metadata": {
  "kernelspec": {
   "display_name": "Python 3 (ipykernel)",
   "language": "python",
   "name": "python3"
  },
  "language_info": {
   "codemirror_mode": {
    "name": "ipython",
    "version": 3
   },
   "file_extension": ".py",
   "mimetype": "text/x-python",
   "name": "python",
   "nbconvert_exporter": "python",
   "pygments_lexer": "ipython3",
   "version": "3.11.3"
  }
 },
 "nbformat": 4,
 "nbformat_minor": 5
}
